{
 "cells": [
  {
   "cell_type": "markdown",
   "metadata": {
    "button": false,
    "new_sheet": false,
    "run_control": {
     "read_only": false
    }
   },
   "source": [
    "## Monte Carlo: The Metropolis algorithm\n",
    "\n",
    "\n",
    "In this notebook we will implement the original idea of Metropolis and co-workers in a Python Notebook. \n",
    "\n",
    "As our programming is getting challenging, and we are dealing with system of increasing complexity, we'll have to find new strategies to simplify our coding approach.\n",
    "\n",
    "To this end, we will introduce a very important concept in all modern computing  languages: object oriented programming. \n",
    "\n",
    "The notion of \"objects\" is to define abstract structure types, which we can act upon and play with. For the case of the Ising model, our \"object\" will typically be a given configuration of spins/arrows. \n",
    "\n",
    "Let's start with a refresher/intro on Python classes before we get to this point.\n",
    "\n",
    "\n",
    "\n",
    "\n",
    "\n"
   ]
  },
  {
   "cell_type": "markdown",
   "metadata": {
    "button": false,
    "collapsed": true,
    "new_sheet": false,
    "run_control": {
     "read_only": false
    }
   },
   "source": [
    "## The Class Structure in Python\n",
    "\n",
    "\n",
    "## What is a Class?\n",
    "\n",
    "A class is a structure in Python that can be used as a blueprint to create objects that have \n",
    "1. prototyped features, \"attributes\" that are variable\n",
    "2. \"methods\" which are functions that can be applied to the object that is created, or rather, an instance of that class. \n",
    "\n",
    "\n",
    "\n"
   ]
  },
  {
   "cell_type": "markdown",
   "metadata": {
    "button": false,
    "collapsed": true,
    "new_sheet": false,
    "run_control": {
     "read_only": false
    }
   },
   "source": [
    "## Defining a Class\n",
    "\n",
    "We want to define a class called *Client* in which a new instance stores a client's name, balance, and account level.\n",
    "It will take the format of:\n",
    "    \n",
    "    class Client(object):\n",
    "        def __init__(self, args[, ...])\n",
    "            #more code\n",
    "            \n",
    "\"def `__init__`\" is what we use when creating classes to define how we can create a new instance of this class. \n",
    "\n",
    "The arguments of `__init__` are required input when creating a new instance of this class, except for 'self'. "
   ]
  },
  {
   "cell_type": "markdown",
   "metadata": {
    "button": false,
    "collapsed": true,
    "new_sheet": false,
    "run_control": {
     "read_only": false
    }
   },
   "source": [
    "The attributes in Client are name, balance and level.\n",
    "Note: \"self.name\" and \"name\" are different variables. Here they represent the same values, but in other cases, this may lead to problems. For example, here the bank has decided to update \"self.balance\" by giving all new members a bonus $100 on top of what they're putting in the bank. Calling \"balance\" for other calculations will not have the correct value."
   ]
  },
  {
   "cell_type": "code",
   "execution_count": 1,
   "metadata": {
    "button": false,
    "new_sheet": false,
    "run_control": {
     "read_only": false
    }
   },
   "outputs": [],
   "source": [
    "# create the Client class below\n",
    "class Client(object):\n",
    "    \n",
    "    def __init__(self, name, balance):\n",
    "\n",
    "        self.name    = name\n",
    "        self.balance = balance + 100\n",
    "        \n",
    "        #define account level\n",
    "        if self.balance < 5000:\n",
    "            \n",
    "            self.level = \"Basic\"\n",
    "            \n",
    "        elif self.balance < 15000:\n",
    "            \n",
    "            self.level = \"Intermediate\"\n",
    "            \n",
    "        else:\n",
    "            \n",
    "            self.level = \"Advanced\"\n",
    "            \n",
    "            "
   ]
  },
  {
   "cell_type": "markdown",
   "metadata": {
    "button": false,
    "collapsed": true,
    "new_sheet": false,
    "run_control": {
     "read_only": false
    }
   },
   "source": [
    "### Creating an Instance of a Class\n",
    "\n",
    "Now, lets try creating some new clients named John_Doe, and Jane_Defoe:"
   ]
  },
  {
   "cell_type": "code",
   "execution_count": 2,
   "metadata": {
    "button": false,
    "new_sheet": false,
    "run_control": {
     "read_only": false
    }
   },
   "outputs": [],
   "source": [
    "John_Doe = Client(\"John Doe\", 500)\n",
    "Jane_Defoe = Client(\"Jane Defoe\", 150000)"
   ]
  },
  {
   "cell_type": "markdown",
   "metadata": {
    "button": false,
    "new_sheet": false,
    "run_control": {
     "read_only": false
    }
   },
   "source": [
    "We can see the attributes of John_Doe, or Jane_Defoe by calling them:"
   ]
  },
  {
   "cell_type": "code",
   "execution_count": 3,
   "metadata": {
    "button": false,
    "new_sheet": false,
    "run_control": {
     "read_only": false
    }
   },
   "outputs": [
    {
     "data": {
      "text/plain": [
       "150100"
      ]
     },
     "execution_count": 3,
     "metadata": {},
     "output_type": "execute_result"
    }
   ],
   "source": [
    "John_Doe.name\n",
    "Jane_Defoe.level\n",
    "Jane_Defoe.balance"
   ]
  },
  {
   "cell_type": "markdown",
   "metadata": {
    "button": false,
    "new_sheet": false,
    "run_control": {
     "read_only": false
    }
   },
   "source": [
    "We can also add, remove or modify attributes as we like:"
   ]
  },
  {
   "cell_type": "code",
   "execution_count": 4,
   "metadata": {
    "button": false,
    "new_sheet": false,
    "run_control": {
     "read_only": false
    }
   },
   "outputs": [],
   "source": [
    "John_Doe.email = \"jdoe23@gmail.com\"\n",
    "John_Doe.email = \"johndoe23@gmail.com\"\n",
    "del John_Doe.email"
   ]
  },
  {
   "cell_type": "code",
   "execution_count": 5,
   "metadata": {
    "button": false,
    "new_sheet": false,
    "run_control": {
     "read_only": false
    }
   },
   "outputs": [
    {
     "data": {
      "text/plain": [
       "'jdoe23@gmail.com'"
      ]
     },
     "execution_count": 5,
     "metadata": {},
     "output_type": "execute_result"
    }
   ],
   "source": [
    "getattr(John_Doe, 'name')\n",
    "setattr(John_Doe, 'email', 'jdoe23@gmail.com')\n",
    "John_Doe.email"
   ]
  },
  {
   "cell_type": "markdown",
   "metadata": {
    "button": false,
    "new_sheet": false,
    "run_control": {
     "read_only": false
    }
   },
   "source": [
    "You can also use the following instead instead of the normal statements:\n",
    "\n",
    "- The `getattr(obj, name[, default])` : to access the attribute of object.\n",
    "\n",
    "- The `hasattr(obj,name)` : to check if an attribute exists or not.\n",
    "\n",
    "- The `setattr(obj,name,value)` : to set an attribute. If attribute does not exist, then it would be created.\n",
    "\n",
    "- The `delattr(obj, name)` : to delete an attribute."
   ]
  },
  {
   "cell_type": "markdown",
   "metadata": {
    "button": false,
    "new_sheet": false,
    "run_control": {
     "read_only": false
    }
   },
   "source": [
    "### Methods\n",
    "\n",
    "*Methods* are functions that can be applied (only) to instances of your class. \n",
    "\n",
    "For example, in the case of our 'Client' class, we may want to update a person's bank account once they withdraw or deposit money. Let's create these methods below. \n",
    "\n",
    "Note that each method takes 'self' as an argument along with the arguments required when calling this method."
   ]
  },
  {
   "cell_type": "code",
   "execution_count": 6,
   "metadata": {
    "button": false,
    "new_sheet": false,
    "run_control": {
     "read_only": false
    }
   },
   "outputs": [],
   "source": [
    "# Use the Client class code above to now add methods for withdrawal and depositing of money\n",
    "\n",
    "# create the Client class below\n",
    "class Client(object):\n",
    "    \n",
    "    def __init__(self, name, balance):\n",
    "\n",
    "        self.name = name\n",
    "        self.balance = balance + 100\n",
    "        \n",
    "        #define account level\n",
    "        \n",
    "        if self.balance < 5000:\n",
    "            self.level = \"Basic\"\n",
    "        elif self.balance < 15000:\n",
    "            self.level = \"Intermediate\"\n",
    "        else:\n",
    "            self.level = \"Advanced\"\n",
    "        \n",
    "        \n",
    "    def deposit(self, amount):\n",
    "        self.balance += amount\n",
    "        return self.balance\n",
    "    \n",
    "    \n",
    "    def withdraw(self, amount):\n",
    "        if amount > self.balance:\n",
    "            raise RuntimeError(\"Insufficient for withdrawal\")\n",
    "        else:\n",
    "            self.balance -= amount\n",
    "        return self.balance\n",
    "    \n",
    "    \n",
    "\n",
    "\n",
    "\n",
    "\n",
    "\n"
   ]
  },
  {
   "cell_type": "code",
   "execution_count": 8,
   "metadata": {
    "button": false,
    "new_sheet": false,
    "run_control": {
     "read_only": false
    }
   },
   "outputs": [
    {
     "data": {
      "text/plain": [
       "300100"
      ]
     },
     "execution_count": 8,
     "metadata": {},
     "output_type": "execute_result"
    }
   ],
   "source": [
    "Jane_Defoe = Client(\"Jane Defoe\", 150000) # GTA\n",
    "Jane_Defoe.deposit(150000)"
   ]
  },
  {
   "cell_type": "code",
   "execution_count": null,
   "metadata": {},
   "outputs": [],
   "source": [
    "Jane_Defoe.withdraw(150000)"
   ]
  },
  {
   "cell_type": "markdown",
   "metadata": {
    "button": false,
    "new_sheet": false,
    "run_control": {
     "read_only": false
    }
   },
   "source": [
    "#### What is \"self\"? \n",
    "\n",
    "In the method, withdraw(self, amount), the self refers to the *instance* upon which we are applying the instructions of the method. \n",
    "\n",
    "When we call a method, `f(self, arg)`, on the object `x`, we use `x.f(arg)`.\n",
    "- `x` is passed as the first argument, *self*, by default and all that is required are the other arguments that comprise the function. \n",
    "\n",
    "It is equivalent to calling `MyClass.f(x, arg)`.\n",
    "Try it yourself with the Client class and one of the methods we've written."
   ]
  },
  {
   "cell_type": "code",
   "execution_count": null,
   "metadata": {
    "button": false,
    "new_sheet": false,
    "run_control": {
     "read_only": false
    }
   },
   "outputs": [],
   "source": [
    "# Try calling a method two different ways\n",
    "John_Doe.deposit(500)\n",
    "Client.withdraw(Jane_Defoe, 50000)"
   ]
  },
  {
   "cell_type": "code",
   "execution_count": null,
   "metadata": {},
   "outputs": [],
   "source": [
    "John_Doe.withdraw(500)\n",
    "Client.deposit(John_Doe, 50000)"
   ]
  },
  {
   "cell_type": "markdown",
   "metadata": {
    "button": false,
    "new_sheet": false,
    "run_control": {
     "read_only": false
    }
   },
   "source": [
    "## Building the Ising lattice class\n",
    "\n",
    "We are now going to illustrate the concept of \"class\" for our example. Our aim is to obtain\n",
    "a class which describes the lattice of arrows/spins, which you'll be able to manipulate at ease to\n",
    "implement your Monte Carlo Metropolis simulation. \n",
    "\n",
    "We start by importing the relevant modules :\n",
    "\n"
   ]
  },
  {
   "cell_type": "code",
   "execution_count": 1,
   "metadata": {
    "button": false,
    "new_sheet": false,
    "run_control": {
     "read_only": false
    }
   },
   "outputs": [],
   "source": [
    "import numpy as np  # package for arrays\n",
    "import matplotlib.pyplot as plt  # package for plotting\n",
    "import time  # for timing\n",
    "# display plots inside of notebook\n",
    "%matplotlib inline"
   ]
  },
  {
   "cell_type": "markdown",
   "metadata": {
    "button": false,
    "new_sheet": false,
    "run_control": {
     "read_only": false
    }
   },
   "source": [
    "\n",
    "A quick recap on the lecture: \n",
    "\n",
    "We have an $M$ by $N$ lattice of spins/arrows, at each site $i$ of a two dimensional grid (or lattice), we have a variable $\\sigma_i \\in \\{-1, 1\\}$, called hereafter the spin at site $i$. \n",
    "\n",
    "As shown in the lecture, the energy of the system is for a given spin configuration:\n",
    "\n",
    "$\\sum_{<i,j>}  -J \\sigma_i \\sigma_j $\n",
    "    \n",
    "where the <,> denotes a sum over nearest neighbors, meaning i and j are sites with a distance $|i-j|=1$, and the lattice is a grid with dimension $M$ by $N$.\n",
    "\n",
    "At this stage, you can already tell something will go wrong when a site $i$ sits at the boundary of this grid, \n",
    "as it has less than 4 neighbors. Ideally we'd simulate an infinite grid, but that would go beyond what we can\n",
    "do with a computer. The best we can do is minimize the impact of the boundary, such that each site of the lattice\n",
    "\"sees\" the same number of neighbors (4 in our case). \n",
    "\n",
    "A mathematical trick is to imagine that the sites at one boundary are connected, or see, the sites at the\n",
    "other boundary. This is called \"periodic boundary conditions\". This helps mimicing a system of infinite extent. \n",
    "The boundary conditions is applied in both directions, horizontal and vertical, and you can hence imaginge\n",
    "the 2D grid as having a donut topology (torus), where both directions x and y are closed on themselves and \n",
    "periodic. \n",
    "\n",
    "\n",
    "We can very slightly generalize this model by adding a coupling to an external magnetic field $h$. This \n",
    "external field will tend to align all the spins/arrows in the same direction, when $h$ is large. The model\n",
    "is simply generalized by adding an extra term: \n",
    "\n",
    "$\\sum_{<i,j>}  -J \\sigma_i \\sigma_j  - \\sum_j h \\sigma _j$.\n",
    "\n",
    "Modelling this system is a bit cumbersome, as it will involve manipulating multi dimensional\n",
    "objects. Let's make our life simple, and build a class instead for the Ising model.\n",
    "\n",
    "We guide you below and provide you with the Ising class, `IsingModel`, a data structure to store attributes of an Ising Model and provide abstractions to manipulate the lattice for simulations.\n",
    "\n",
    "For example, to construct an instance of an `IsingModel` class as a 20 by 10 lattice with $J=1.0$ and $h=0$, things will be as simple as:\n",
    "\n",
    "    model = IsingModel(20, 10, 1.0, 0.0)\n",
    "    model.print_attributes()\n",
    "\n",
    "The lattice state is stored in an $M$ by $N$ numpy array, `lattice_state`; each entry is either -1 and 1. Each site of the lattice is initialized as -1 or 1 with equal probability in the initial construction of an instance. Retreive the lattice state by:\n",
    "\n",
    "    model.lattice_state\n",
    "    \n",
    "Plot the lattice state by:\n",
    "\n",
    "    model.plot_lattice()\n",
    "    \n",
    "We can conveniently manipulate the lattice for simulations. For example, to flip the spin in row 2 and column 3 and calculate the energy of this spin:\n",
    "\n",
    "    model.flip_spin(2, 3)\n",
    "    model.calculate_energy_of_spin(2, 3)\n",
    "    \n",
    "    \n",
    "We defined the structure below, but we left some blanks to fill in, can you find the key elements to\n",
    "correct the Ising Model class so we can start the Metropolis simulation? \n",
    "\n",
    "Below we also introduced a object called the magnetization. This is nothing else than the sum of all arrows or spins,\n",
    "when the spin are randomly oriented, the magnetization M is small, when the spins are all aligned in the same direction, the magnetization is large. \n",
    "\n",
    "\n",
    "\n",
    "    "
   ]
  },
  {
   "cell_type": "code",
   "execution_count": 2,
   "metadata": {
    "button": false,
    "new_sheet": false,
    "run_control": {
     "read_only": false
    }
   },
   "outputs": [],
   "source": [
    "import numpy as np\n",
    "import matplotlib.pyplot as plt\n",
    "import time\n",
    "class IsingModel:\n",
    "    \"\"\"\n",
    "    Store attributes of an Ising lattice model\n",
    "    Provide abstractions to conveniently manipulate lattice for simulations\n",
    "    \"\"\"\n",
    "    \n",
    "    \n",
    "\n",
    "    def __init__(self, M, N, J, h):\n",
    "        \"\"\"\n",
    "        Initialization.\n",
    "        \n",
    "        parameters:\n",
    "            lattice is M by N sites\n",
    "            J: interaction between neighbors (units: kT)\n",
    "            h: background field (units: kT)\n",
    "        \"\"\"\n",
    "        # store parameters for convenience:\n",
    "        #   energetic parameters\n",
    "        self.J = J\n",
    "        self.h = h\n",
    "        \n",
    "        #   size of lattice\n",
    "        self.M = M\n",
    "        self.N = N\n",
    "        \n",
    "        # store lattice state with M by N array of -1 or 1\n",
    "        # initialize each site as -1 or 1 with equal probability\n",
    "        lattice_state = np.random.randint(-1, high=1, size=(M, N))\n",
    "        lattice_state[lattice_state == 0] = 1\n",
    "        self.lattice_state = lattice_state\n",
    "        \n",
    "        \n",
    "    \n",
    "    def print_params(self):\n",
    "        \"\"\"\n",
    "        Print lattice attributes\n",
    "        \"\"\"\n",
    "        print(\"\\t%d by %d lattice\" % (self.M, self.N))\n",
    "        print(\"\\tJ = %f   (+ve means preferable )\" % self.J)\n",
    "        print(\"\\th = %f\" % self.h)\n",
    "    \n",
    "    \n",
    "    \n",
    "    def flip_spin(self, i, j):\n",
    "        \"\"\"\n",
    "        Flip spin (i, j)\n",
    "        i.e. -1 ---> 1\n",
    "              1 ---> -1\n",
    "        \"\"\"\n",
    "        self.lattice_state[i, j] *= -1\n",
    "        #self.lattice_state[i, j] = -1*self.lattice_state[i, j]\n",
    "        \n",
    "    \n",
    "    \n",
    "    def calculate_energy_of_spin(self, i, j):\n",
    "        \"\"\"\n",
    "        Calculate energy of spin (i, j)\n",
    "        \n",
    "        Periodic boundary conditions implemented\n",
    "        \"\"\"\n",
    "        spin_here = self.lattice_state[i, j]  # value of spin here\n",
    "        \n",
    "        # value of spin above, below, left, and right of spin (i, j)\n",
    "        # for each, if on boundary, we wrap around to the other side\n",
    "        # of the lattice for periodic boundary conditions\n",
    "        if j == 0:\n",
    "            spin_above = self.lattice_state[i, self.N - 1]\n",
    "        else:\n",
    "            spin_above = self.lattice_state[i, j - 1]\n",
    "        \n",
    "        if j == self.N - 1:\n",
    "            spin_below = self.lattice_state[i, 0]\n",
    "        else:\n",
    "            spin_below = self.lattice_state[i, j + 1]\n",
    "            \n",
    "        if i == self.M - 1:\n",
    "            spin_right = self.lattice_state[i, j]\n",
    "        else:\n",
    "            spin_right = self.lattice_state[i + 1, j]\n",
    "        \n",
    "        if i == 0:\n",
    "            spin_left = self.lattice_state[self.M - 1, j]\n",
    "        else:\n",
    "            spin_left = self.lattice_state[i - 1, j]\n",
    "        \n",
    "        return ((-self.J*(spin_above+spin_below+spin_right+spin_left)-self.h)* spin_here)\n",
    "    \n",
    "    \n",
    "        \n",
    "    def plot_lattice(self):\n",
    "        \"\"\"\n",
    "        Plot lattice configuration\n",
    "        \"\"\"\n",
    "        plt.figure()\n",
    "        \n",
    "        imgplot = plt.imshow(self.lattice_state)\n",
    "        imgplot.set_interpolation('none')\n",
    "        \n",
    "        plt.xticks(range(self.N))\n",
    "        plt.yticks(range(self.M))\n",
    "        \n",
    "        plt.show()\n",
    "    \n",
    "    \n",
    "    def calculate_lattice_energy_per_spin(self):\n",
    "        \"\"\"\n",
    "        Calculate energy of lattice normalized by the number of spins\n",
    "        \"\"\"\n",
    "        E = 0.0\n",
    "        for i in range(self.M):\n",
    "            for j in range(self.N):\n",
    "                E += self.calculate_energy_of_spin(i, j)\n",
    "        # factor of two for overcounting neighboring interactions.\n",
    "        # but then need to add back -1/2 h \\sum s_i \n",
    "\n",
    "        return E / 2.0 / (self.M * self.N) -\\\n",
    "            self.h * np.sum(self.lattice_state) / 2.0 / (self.M * self.N)\n",
    "       \n",
    "        \n",
    "        \n",
    "    def calculate_net_magnetization_per_spin(self):\n",
    "        \"\"\"\n",
    "        Calculate net magentization normalized by the number of spins\n",
    "        \"\"\"\n",
    "        return np.sum(self.lattice_state) * 1.0 / (self.M * self.N)   \n",
    "    "
   ]
  },
  {
   "cell_type": "markdown",
   "metadata": {
    "button": false,
    "new_sheet": false,
    "run_control": {
     "read_only": false
    }
   },
   "source": [
    "## Using your Ising Model Class\n",
    "\n",
    "Now the hardest part is done ! We can start manipulating our new toolbox to investigate the properties of the\n",
    "Ising Model. Let's start by plotting a grid of 3x5 with no external magnetic field and $J=1$. \n",
    "\n",
    "\n",
    "\n"
   ]
  },
  {
   "cell_type": "markdown",
   "metadata": {
    "button": false,
    "new_sheet": false,
    "run_control": {
     "read_only": false
    }
   },
   "source": [
    "Calculate now the energy of the spin located at position (2,0)"
   ]
  },
  {
   "cell_type": "code",
   "execution_count": 3,
   "metadata": {
    "button": false,
    "new_sheet": false,
    "run_control": {
     "read_only": false
    }
   },
   "outputs": [
    {
     "data": {
      "text/plain": [
       "0"
      ]
     },
     "execution_count": 3,
     "metadata": {},
     "output_type": "execute_result"
    }
   ],
   "source": [
    "test=IsingModel(3,5,1,0)\n",
    "test.calculate_energy_of_spin(2,0)\n"
   ]
  },
  {
   "cell_type": "code",
   "execution_count": 4,
   "metadata": {
    "scrolled": true
   },
   "outputs": [
    {
     "data": {
      "text/plain": [
       "0.06666666666666667"
      ]
     },
     "execution_count": 4,
     "metadata": {},
     "output_type": "execute_result"
    }
   ],
   "source": [
    "test.calculate_net_magnetization_per_spin()"
   ]
  },
  {
   "cell_type": "markdown",
   "metadata": {
    "button": false,
    "new_sheet": false,
    "run_control": {
     "read_only": false
    }
   },
   "source": [
    "\n",
    "Now let's flip a spin at location (0,1), and plot the lattice after the spin flip:\n",
    "\n",
    "\n"
   ]
  },
  {
   "cell_type": "code",
   "execution_count": 14,
   "metadata": {
    "button": false,
    "new_sheet": false,
    "run_control": {
     "read_only": false
    }
   },
   "outputs": [
    {
     "name": "stdout",
     "output_type": "stream",
     "text": [
      "lattice before flip\n"
     ]
    },
    {
     "data": {
      "image/png": "[encoded data removed]",
      "text/plain": [
       "<Figure size 432x288 with 1 Axes>"
      ]
     },
     "metadata": {
      "needs_background": "light"
     },
     "output_type": "display_data"
    },
    {
     "name": "stdout",
     "output_type": "stream",
     "text": [
      "lattice after flip\n"
     ]
    },
    {
     "data": {
      "image/png": "[encoded data removed]",
      "text/plain": [
       "<Figure size 432x288 with 1 Axes>"
      ]
     },
     "metadata": {
      "needs_background": "light"
     },
     "output_type": "display_data"
    }
   ],
   "source": [
    "test=IsingModel(3,5,1,0)\n",
    "print('lattice before flip')\n",
    "test.plot_lattice()\n",
    "test.flip_spin(2,3)\n",
    "print('lattice after flip')\n",
    "test.plot_lattice()\n"
   ]
  },
  {
   "cell_type": "markdown",
   "metadata": {
    "button": false,
    "new_sheet": false,
    "run_control": {
     "read_only": false
    }
   },
   "source": [
    "# Function to sweep the lattice in a Monte Carlo simulation"
   ]
  },
  {
   "cell_type": "markdown",
   "metadata": {
    "button": false,
    "new_sheet": false,
    "run_control": {
     "read_only": false
    }
   },
   "source": [
    "In this part of the tutorial, we will implement a function `sweep_lattice`, which will perform several Monte Carlo spin flip trials. We call it `sweep_lattice` because, on average, each spin will be selected for a Monte Carlo trial once during a 'sweep' of the lattice. For this intent, we will pick randomly one site of the lattice at every attempt. \n",
    "\n",
    "How many attempt do you need such that in average every site has a chance $\\approx 1$  to be selected (if the grid has a size of M x N ) ? \n",
    "\n",
    "This will be your number of flips (num_flips) performed in this function \n",
    "\n",
    "\n",
    "\n",
    "\n"
   ]
  },
  {
   "cell_type": "code",
   "execution_count": 15,
   "metadata": {
    "button": false,
    "new_sheet": false,
    "run_control": {
     "read_only": false
    }
   },
   "outputs": [],
   "source": [
    "def sweep_lattice(isingmodel, kT):\n",
    "\n",
    "    \"\"\"\n",
    "    Perform N*M Monte Carlo spin flip attempts\n",
    "    \n",
    "    parameters:\n",
    "        isingModel: Ising lattice model object instance\n",
    "        kT: Boltzmann constant times temperature, $kT$\n",
    "    returns:\n",
    "        fraction of Monte Carlo proposals accepted\n",
    "    \"\"\"\n",
    "    \n",
    "    \n",
    "    \n",
    "    num_flips = isingmodel.M*isingmodel.N\n",
    "    \n",
    "    \n",
    "    \n",
    "    # keep track of number of Monte Carlo propsoals that are accepted\n",
    "    \n",
    "    \n",
    "    n_accepted = 0\n",
    "    \n",
    "    \n",
    "    \n",
    "    for flip in range(num_flips):\n",
    "        \n",
    "        # choose a spin to flip at random, i and j are the horizontal/vertical indices\n",
    "        \n",
    "        i = np.random.randint(0,isingmodel.M)\n",
    "        j = np.random.randint(0,isingmodel.N)\n",
    "        \n",
    "        # calculate old energy of spin at i,j \n",
    "        E_old = isingmodel.calculate_energy_of_spin(i, j)\n",
    "        \n",
    "        # flip the spin i,j\n",
    "        isingmodel.flip_spin(i, j)    \n",
    "        \n",
    "        \n",
    "        # calculate new energy of spin at i,j\n",
    "        \n",
    "        E_new = isingmodel.calculate_energy_of_spin(i, j)\n",
    "        \n",
    "        # Monte Carlo: accept this proposal with probability e^{-\\beta \\Delta E}\n",
    "        \n",
    "        # Define Probability P from E_new and E_old \n",
    "        \n",
    "        P = np.exp(-(E_new-E_old)/kT)\n",
    "        \n",
    "        \n",
    "        if np.random.uniform(0, 1) > P :\n",
    "            \n",
    "            # reject move, flip spin back to original state\n",
    "            \n",
    "            isingmodel.flip_spin(i, j)\n",
    "            \n",
    "        else:\n",
    "            \n",
    "            # else: accept, do nothing\n",
    "            \n",
    "            n_accepted += 1\n",
    "            \n",
    "            \n",
    "            \n",
    "            \n",
    "    return 1.0 * n_accepted / (model.M * model.N)  # return fraction of MC moves accepted\n",
    "\n",
    "\n",
    "\n",
    "\n",
    "\n"
   ]
  },
  {
   "cell_type": "markdown",
   "metadata": {
    "button": false,
    "new_sheet": false,
    "run_control": {
     "read_only": false
    }
   },
   "source": [
    "# Monte Carlo simulation of the Ising Model \n",
    "\n",
    "We are now nearly done! We can now gather the pieces of the code we implemented to formulate a full fledge version of the Metropolis algorithm.\n",
    "\n",
    "We will now define the highest level class \"simulate\", which will perform the overall calculations. \n",
    "\n",
    "We prepared the code for this purpose, there aren't any fill in below, but read carefully through the code and compare with the formalism and equations outlined in the lecture notes.\n",
    "\n",
    "Question: in the Monte Carlo sampling we do not average quantities over the first few generated configurations (num_burn_sweeps below). Why is this a good practice? \n",
    "\n",
    "\n",
    "\n",
    "\n"
   ]
  },
  {
   "cell_type": "code",
   "execution_count": 39,
   "metadata": {
    "button": false,
    "new_sheet": false,
    "run_control": {
     "read_only": false
    }
   },
   "outputs": [],
   "source": [
    "def simulate(isingmodel, kT, num_sweeps, num_burn_sweeps, sample_frequency,info_sim):\n",
    "\n",
    "    \n",
    "    \"\"\"\n",
    "    Monte Carlo simulations of Ising model in Canonical ensemble\n",
    "    \n",
    "    parameters:\n",
    "        isingModel: Ising lattice model object instance\n",
    "        kT: Boltzmann constant times temperature, $kT$\n",
    "        num_sweeps: total number of Monte Carlo sweeps to perform in the simulation\n",
    "        num_burn_sweeps: number of sweeps for equilibration (no samples taken during this period)\n",
    "        sample_frequency: frequency at which to take samples\n",
    "    \"\"\"  \n",
    "    \n",
    "    \n",
    "##############################################################################################    \n",
    "    t0 = time.time()  # keep track of time ! \n",
    "        \n",
    "    # Print some info \n",
    "    if info_sim:\n",
    "        print(\"Simulating Ising model:\")\n",
    "\n",
    "        isingmodel.print_params()\n",
    "\n",
    "        print(\"\\tTemperature (kT) = %f\" % kT)\n",
    "        print(\"\\t%d total sweeps, %d of them burn sweeps\" % (\n",
    "                num_sweeps, num_burn_sweeps))\n",
    "        print(\"\\t\\tSampling every %d sweeps\" % sample_frequency)\n",
    "\n",
    "    # set energy and magnetization averages to zero, remember, in Monte Carlo we will\n",
    "    # average quantities over a set of \"well-chosen\" configuration, those are our averages\n",
    "##############################################################################################    \n",
    "\n",
    "    \n",
    "\n",
    "    \n",
    "    energy_samples        = np.zeros(np.int((num_sweeps - num_burn_sweeps) // sample_frequency,))\n",
    "    magnetization_samples = np.zeros(np.int((num_sweeps - num_burn_sweeps) // sample_frequency,))\n",
    "    \n",
    "    \n",
    "    # keep track of number of samples taken\n",
    "    \n",
    "    n_samples = 0\n",
    "    \n",
    "    # keep track of fraction of proposals accepted, how often do we reject/accept \n",
    "    \n",
    "    fraction_accepted_during_sampling_sweeps = 0\n",
    "    \n",
    "    # let's get the show started !!!!!!\n",
    "    \n",
    "############################################################################################## \n",
    "# MONTE CARLO SAMPLING\n",
    "##############################################################################################    \n",
    "\n",
    "    for sweep in range(num_sweeps):\n",
    "        \n",
    "        # sweep lattice, remember sweet_lattice returns the fraction of accepted trials\n",
    "        \n",
    "        fraction_accepted = sweep_lattice(model, kT)\n",
    "\n",
    "        # if burn sweeps are done, take samples\n",
    "        \n",
    "        if sweep >= num_burn_sweeps:\n",
    "            \n",
    "            fraction_accepted_during_sampling_sweeps += fraction_accepted\n",
    "                \n",
    "            energy_samples[n_samples]        = model.calculate_lattice_energy_per_spin()\n",
    "                \n",
    "            magnetization_samples[n_samples] = model.calculate_net_magnetization_per_spin()\n",
    "                \n",
    "            n_samples += 1\n",
    "\n",
    "##############################################################################################    \n",
    "\n",
    "\n",
    "\n",
    "    print(\"\\t\\tFraction proposals accepted during sampling regime = %f\" % (\n",
    "        1.0 * fraction_accepted_during_sampling_sweeps / (num_sweeps - num_burn_sweeps)))\n",
    "    \n",
    "    print(\"\\t<E> = %f +/- %f\" % (np.mean(energy_samples),\n",
    "                                 1.96 * np.std(energy_samples) / np.sqrt(n_samples)))\n",
    "    \n",
    "    print(\"\\t<m> = %f +/- %f\" % (np.mean(magnetization_samples), \n",
    "                                 1.96 * np.std(magnetization_samples) / np.sqrt(n_samples)))\n",
    "    \n",
    "    \n",
    "    print(\"\\tSimulation finished. Took %s sec.\" % (time.time() - t0))\n",
    "    \n",
    "    \n",
    "    assert((num_sweeps - num_burn_sweeps) / sample_frequency)\n",
    "    \n",
    "    return energy_samples, magnetization_samples\n",
    "\n",
    "\n",
    "\n"
   ]
  },
  {
   "cell_type": "code",
   "execution_count": 19,
   "metadata": {},
   "outputs": [
    {
     "name": "stdout",
     "output_type": "stream",
     "text": [
      "[0. 0. 0. 0. 0. 0. 0. 0. 0. 0.]\n"
     ]
    }
   ],
   "source": [
    "a=np.zeros(np.int(10.))\n",
    "print(a)"
   ]
  },
  {
   "cell_type": "markdown",
   "metadata": {
    "button": false,
    "new_sheet": false,
    "run_control": {
     "read_only": false
    }
   },
   "source": [
    "# An example Monte Carlo simulation of the Ising Model"
   ]
  },
  {
   "cell_type": "markdown",
   "metadata": {
    "run_control": {}
   },
   "source": [
    "We note set up a full simulations. First, define a 20x20 grid for the Ising model with $J=2$ and $h=0$."
   ]
  },
  {
   "cell_type": "code",
   "execution_count": 25,
   "metadata": {
    "button": false,
    "new_sheet": false,
    "run_control": {
     "read_only": false
    }
   },
   "outputs": [],
   "source": [
    "model=IsingModel(20,10,2,0)"
   ]
  },
  {
   "cell_type": "markdown",
   "metadata": {
    "run_control": {}
   },
   "source": [
    "Now that our Ising model is all set, we run the Monte Carlo simulation with $kT=1.2$, 2000 lattice sweep, and we discard the first 1000 (burn in)"
   ]
  },
  {
   "cell_type": "code",
   "execution_count": 41,
   "metadata": {
    "button": false,
    "new_sheet": false,
    "run_control": {
     "read_only": false
    }
   },
   "outputs": [
    {
     "name": "stdout",
     "output_type": "stream",
     "text": [
      "\t\tFraction proposals accepted during sampling regime = 0.000000\n",
      "\t<E> = -4.000000 +/- 0.000000\n",
      "\t<m> = 1.000000 +/- 0.000000\n",
      "\tSimulation finished. Took 1.3424289226531982 sec.\n"
     ]
    },
    {
     "data": {
      "image/png": "[encoded data removed]",
      "text/plain": [
       "<Figure size 432x288 with 1 Axes>"
      ]
     },
     "metadata": {
      "needs_background": "light"
     },
     "output_type": "display_data"
    }
   ],
   "source": [
    "kT=1.2\n",
    "energy_samples, magnetization_samples = simulate(model, kT, 200, 10, 1,False)\n",
    "#simulate(isingmodel, kT, num_sweeps, num_burn_sweeps, sample_frequency)\n",
    "\n",
    "model.plot_lattice()\n"
   ]
  },
  {
   "cell_type": "code",
   "execution_count": 42,
   "metadata": {},
   "outputs": [
    {
     "name": "stdout",
     "output_type": "stream",
     "text": [
      "\t\tFraction proposals accepted during sampling regime = 0.000000\n",
      "\t<E> = -4.000000 +/- 0.000000\n",
      "\t<m> = 1.000000 +/- 0.000000\n",
      "\tSimulation finished. Took 1.4154160022735596 sec.\n",
      "0.1 -4.0 1.0\n",
      "\t\tFraction proposals accepted during sampling regime = 0.000000\n",
      "\t<E> = -4.000000 +/- 0.000000\n",
      "\t<m> = 1.000000 +/- 0.000000\n",
      "\tSimulation finished. Took 1.3301177024841309 sec.\n",
      "0.6 -4.0 1.0\n",
      "\t\tFraction proposals accepted during sampling regime = 0.000000\n",
      "\t<E> = -4.000000 +/- 0.000000\n",
      "\t<m> = 1.000000 +/- 0.000000\n",
      "\tSimulation finished. Took 1.315838098526001 sec.\n",
      "1.1 -4.0 1.0\n",
      "\t\tFraction proposals accepted during sampling regime = 0.000053\n",
      "\t<E> = -4.000000 +/- 0.000000\n",
      "\t<m> = 1.000000 +/- 0.000000\n",
      "\tSimulation finished. Took 1.3198177814483643 sec.\n",
      "1.6 -4.0 1.0\n",
      "\t\tFraction proposals accepted during sampling regime = 0.001947\n",
      "\t<E> = -3.986474 +/- 0.004767\n",
      "\t<m> = 0.998158 +/- 0.000657\n",
      "\tSimulation finished. Took 1.324167013168335 sec.\n",
      "2.1 -3.9864736842105266 0.9981578947368422\n",
      "\t\tFraction proposals accepted during sampling regime = 0.005553\n",
      "\t<E> = -3.959263 +/- 0.007854\n",
      "\t<m> = 0.994316 +/- 0.001152\n",
      "\tSimulation finished. Took 1.3297207355499268 sec.\n",
      "2.6 -3.9592631578947373 0.9943157894736843\n",
      "\t\tFraction proposals accepted during sampling regime = 0.020474\n",
      "\t<E> = -3.851842 +/- 0.018005\n",
      "\t<m> = 0.976947 +/- 0.003177\n",
      "\tSimulation finished. Took 1.3349330425262451 sec.\n",
      "3.1 -3.851842105263158 0.9769473684210525\n",
      "\t\tFraction proposals accepted during sampling regime = 0.047974\n",
      "\t<E> = -3.705421 +/- 0.023598\n",
      "\t<m> = 0.950947 +/- 0.005682\n",
      "\tSimulation finished. Took 1.306093692779541 sec.\n",
      "3.6 -3.705421052631579 0.9509473684210527\n"
     ]
    }
   ],
   "source": [
    "for kT in np.arange(0.1,4,0.5):\n",
    "    energy_samples, magnetization_samples = simulate(model, kT, 200, 10, 1,False)\n",
    "\n",
    "    en_mean=np.mean(energy_samples)\n",
    "    mag_mean=np.mean(magnetization_samples)\n",
    "    \n",
    "    print(kT,en_mean,mag_mean)"
   ]
  },
  {
   "cell_type": "markdown",
   "metadata": {
    "run_control": {}
   },
   "source": [
    "Extend now the code above to repeat the calculation for temperatures between $kT=0$ and $kT=4$, with intervals of $kT=0.5$. Store the results in a NumPy array, and plot both the magnetization and energy"
   ]
  },
  {
   "cell_type": "markdown",
   "metadata": {
    "run_control": {}
   },
   "source": [
    "Question: do you see any changes in the energy and magnetization near $kT \\approx 2.3$ ? What is your interpretation of this phenomena?"
   ]
  },
  {
   "cell_type": "markdown",
   "metadata": {
    "run_control": {}
   },
   "source": [
    "Answer : ........."
   ]
  }
 ],
 "metadata": {
  "kernelspec": {
   "display_name": "Python 3",
   "language": "python",
   "name": "python3"
  },
  "language_info": {
   "codemirror_mode": {
    "name": "ipython",
    "version": 3
   },
   "file_extension": ".py",
   "mimetype": "text/x-python",
   "name": "python",
   "nbconvert_exporter": "python",
   "pygments_lexer": "ipython3",
   "version": "3.8.0"
  }
 },
 "nbformat": 4,
 "nbformat_minor": 1
}
