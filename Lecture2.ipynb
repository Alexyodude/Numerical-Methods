{
 "cells": [
  {
   "cell_type": "markdown",
   "metadata": {
    "button": false,
    "new_sheet": false,
    "run_control": {
     "read_only": false
    }
   },
   "source": [
    "###### 5CCP: Computational Laboratory \n",
    "\n",
    "## Module Coordinators: \n",
    "#### Cedric Weber (cedric.weber@kcl.ac.uk)\n",
    "#### Joe Bhaseen (joe.bhaseen@kcl.ac.uk)\n",
    "\n",
    "## Section 1 : A refresher to Python Jupyter Notebook and NumPy, Simple data analysis and manipulation\n",
    "\n",
    "From the first year computing lecture, you should be familiar with:\n",
    " - Assignment of variables and basic arithmetic\n",
    " - Manipulation and formatting of 'string' objects\n",
    " - If statements, conditionals and comparisons\n",
    " - 'While' loops for iterating until a condition is met\n",
    " - Lists and iterating over elements of a list with 'for' loops\n",
    " - Creating your own functions\n",
    " - Reading and writing to files\n",
    " - Plotting functions\n",
    " \n",
    "If you want to refresh your knowledge of these concepts, it will be worth revisiting the previous sessions notebooks and completing the tasks if you have been unable to, as well as watching the VodCasts associated with each session in the 5CCP module.\n",
    "We'll provide plenty of support, so stay tuned in!\n",
    "\n",
    "In this session, we are refreshing useful notions and tools in Python.\n",
    "\n",
    "You will be routinely dealing in the coming weeks with algeabric operations that sparks quite a few headaches when it comes to solving them. There are simple algorithms and techniques to solve those that are directly available at hand in Python, or more precisely via the external module NumPy. \n",
    "\n",
    "NumPy provides in particular:\n",
    "\n",
    "- extension package to Python for dealing with arrays, \n",
    "\n",
    "- designed for scientific computation (convenience), \n",
    "\n",
    "- Also known as array oriented computing.\n",
    "\n",
    "We are going to start off with looking at arrays, and their implementation in Python. Think of arrays as collection of variables, united under the same entity. The array is like any other variables that you have encountered so far, but it has an extra \"index\". This index identifies which element of the array you want to extract, or modify. To help illustrate this point, let's have a look at this example:\n"
   ]
  },
  {
   "cell_type": "code",
   "execution_count": 93,
   "metadata": {
    "button": false,
    "new_sheet": false,
    "run_control": {
     "read_only": false
    },
    "scrolled": true
   },
   "outputs": [
    {
     "name": "stdout",
     "output_type": "stream",
     "text": [
      "1 2 3 4 5 6 7 8 9\n"
     ]
    }
   ],
   "source": [
    "x1=1\n",
    "x2=2\n",
    "x3=3\n",
    "x4=4\n",
    "x5=5\n",
    "x6=6\n",
    "x7=7\n",
    "x8=8\n",
    "x9=9\n",
    "\n",
    "print (x1, x2, x3, x4, x5, x6, x7, x8, x9)"
   ]
  },
  {
   "cell_type": "markdown",
   "metadata": {
    "button": false,
    "new_sheet": false,
    "run_control": {
     "read_only": false
    }
   },
   "source": [
    "In this example, we are setting 9 variables to 1-9 and print their values. This is a very cumbersome operation, that could be simplified by using a \"for loop\". The problem is that there is no systematic way to access the variables x1,x2, .. as at present they are independent. \n",
    "\n",
    "The array NP is constructed as follow in NumPy (we import here the numpy module as np!)"
   ]
  },
  {
   "cell_type": "code",
   "execution_count": 4,
   "metadata": {
    "button": false,
    "new_sheet": false,
    "run_control": {
     "read_only": false
    },
    "scrolled": true
   },
   "outputs": [
    {
     "data": {
      "text/plain": [
       "array([0, 1, 2, 3])"
      ]
     },
     "execution_count": 4,
     "metadata": {},
     "output_type": "execute_result"
    }
   ],
   "source": [
    "import numpy as np\n",
    "\n",
    "a = np.array([0, 1, 2, 3])\n",
    "a\n",
    "\n"
   ]
  },
  {
   "cell_type": "markdown",
   "metadata": {
    "button": false,
    "new_sheet": false,
    "run_control": {
     "read_only": false
    }
   },
   "source": [
    "Very minor detail: note that in the example above, the formatting is involving comas in the list of elements of the array. If instead, you use the print(a) statement, it will provide a nicer formatting, and align the elements by row/columns, and remove the comas, see for example:\n"
   ]
  },
  {
   "cell_type": "code",
   "execution_count": 5,
   "metadata": {
    "button": false,
    "new_sheet": false,
    "run_control": {
     "read_only": false
    }
   },
   "outputs": [
    {
     "name": "stdout",
     "output_type": "stream",
     "text": [
      "[0 1 2 3]\n"
     ]
    }
   ],
   "source": [
    "import numpy as np\n",
    "a = np.array([0, 1, 2, 3])\n",
    "print(a)"
   ]
  },
  {
   "cell_type": "markdown",
   "metadata": {
    "button": false,
    "new_sheet": false,
    "run_control": {
     "read_only": false
    }
   },
   "source": [
    "Here, the array \"a\" has 4 elements, with the values set to respectively 0,1,2 and 3. We can now print all the elements contained in the array:"
   ]
  },
  {
   "cell_type": "markdown",
   "metadata": {
    "button": false,
    "new_sheet": false,
    "run_control": {
     "read_only": false
    }
   },
   "source": [
    "Or alternatively print only one of the array element:"
   ]
  },
  {
   "cell_type": "code",
   "execution_count": 7,
   "metadata": {
    "button": false,
    "new_sheet": false,
    "run_control": {
     "read_only": false
    },
    "scrolled": true
   },
   "outputs": [
    {
     "name": "stdout",
     "output_type": "stream",
     "text": [
      "3\n"
     ]
    }
   ],
   "source": [
    "import numpy as np\n",
    "a = np.array([0, 3, 5, 3])\n",
    "print( a[1] )"
   ]
  },
  {
   "cell_type": "markdown",
   "metadata": {
    "button": false,
    "new_sheet": false,
    "run_control": {
     "read_only": false
    }
   },
   "source": [
    "### Why are arrays useful?\n",
    "\n",
    "The array might contain values of an experiment or from a simulation at different discrete time steps,\n",
    "a signal recorded by a measurement device, such as sound wave or signal intensity, pixels from an image with an index which is the grey-level or colour, 3-D data measured at different carthesian coordinates (MRI scan), etcetera. Why are arrays useful? Imagine that now we need to store a thousand data points, it would be extremely time consuming to do it by hand and declare as many variables. With arrays, we can do it in a breeze! \n",
    "\n"
   ]
  },
  {
   "cell_type": "markdown",
   "metadata": {
    "button": false,
    "new_sheet": false,
    "run_control": {
     "read_only": false
    }
   },
   "source": [
    "\n",
    "A few useful functions that provide some information about the dimension and shape of your arrays are : \n",
    "\n",
    "- a.ndim\n",
    "\n",
    "- a.shape\n",
    "\n",
    "- len(a) \n",
    "\n",
    "They provide the dimension of the array (in the case studied so far, those are one dimensional), the shape, e.g. the number of elements for each dimension, and the length, or total number of elements in the array.\n",
    "\n",
    "\n",
    "\n"
   ]
  },
  {
   "cell_type": "code",
   "execution_count": 8,
   "metadata": {
    "button": false,
    "new_sheet": false,
    "run_control": {
     "read_only": false
    }
   },
   "outputs": [
    {
     "name": "stdout",
     "output_type": "stream",
     "text": [
      "1\n",
      "(4,)\n",
      "4\n"
     ]
    }
   ],
   "source": [
    "a = np.array([0, 1, 2, 3])\n",
    "a\n",
    "\n",
    "print (a.ndim)\n",
    "\n",
    "print (a.shape)\n",
    "\n",
    "print(len(a))\n"
   ]
  },
  {
   "cell_type": "markdown",
   "metadata": {
    "button": false,
    "new_sheet": false,
    "run_control": {
     "read_only": false
    }
   },
   "source": [
    "As hinted above, arrays can also have more than one dimension, think of it as a \"table\", where entries can be entered by lines or columns.\n",
    "\n",
    "In 2D, the first dimension corresponds to lines, the second to columns.\n",
    "for an array a with more than one dimension, the rows are provided one by one. For example, if an array is a 2 x 3 matrix (table), with two lines of three elements,\n",
    "it will be written as:\n",
    "\n",
    "`b = np.array([[0, 1, 2], [3, 4, 5]])`\n",
    "\n",
    "The first line of the matrix is: 0,1,2; the second line of the matrix is: 3,4,5.\n"
   ]
  },
  {
   "cell_type": "code",
   "execution_count": 9,
   "metadata": {
    "button": false,
    "new_sheet": false,
    "run_control": {
     "read_only": false
    }
   },
   "outputs": [
    {
     "name": "stdout",
     "output_type": "stream",
     "text": [
      "[[0 1 2]\n",
      " [3 4 5]]\n",
      "2\n",
      "(2, 3)\n"
     ]
    }
   ],
   "source": [
    "b = np.array([[0, 1, 2], [3, 4, 5]])    # 2 x 3 array\n",
    "\n",
    "print(b)\n",
    "\n",
    "print(b.ndim)\n",
    "\n",
    "print(b.shape)\n",
    "\n"
   ]
  },
  {
   "cell_type": "markdown",
   "metadata": {
    "button": false,
    "new_sheet": false,
    "run_control": {
     "read_only": false
    }
   },
   "source": [
    "### Exercice 1: Simple arrays\n",
    "\n",
    "Your first exercice is to create a two dimensional array with dimension 2x10 (two rows of 10 elements). The first row should contain odd numbers counting backwards, and the second row the even numbers counting forward. Here, you can make use of the for loop in Python, or alternatively fill in the arrays element by element.\n"
   ]
  },
  {
   "cell_type": "code",
   "execution_count": null,
   "metadata": {
    "button": false,
    "collapsed": true,
    "new_sheet": false,
    "run_control": {
     "read_only": false
    }
   },
   "outputs": [],
   "source": [
    "\n",
    "\n",
    "\n",
    "\n"
   ]
  },
  {
   "cell_type": "markdown",
   "metadata": {
    "button": false,
    "new_sheet": false,
    "run_control": {
     "read_only": false
    }
   },
   "source": [
    "### NumPy Array Creation\n",
    "\n",
    "There are different ways to create arrays from scratch with NumPy:\n",
    "\n",
    "- zeros(shape) will create an array filled with 0 values with the specified shape. The default dtype is float64.\n",
    "\n",
    "- ones(shape) will create an array filled with 1 values. It is identical to zeros in all other respects.\n",
    "\n",
    "- arange() will create arrays with regularly incrementing values. \n",
    "\n",
    "- linspace() will create arrays with a specified number of elements, and spaced equally between the specified beginning and end values.\n",
    "\n",
    "A few examples here:\n"
   ]
  },
  {
   "cell_type": "code",
   "execution_count": 17,
   "metadata": {
    "button": false,
    "new_sheet": false,
    "run_control": {
     "read_only": false
    }
   },
   "outputs": [
    {
     "data": {
      "text/plain": [
       "array([0, 1, 2, 3, 4, 5, 6, 7, 8, 9])"
      ]
     },
     "execution_count": 17,
     "metadata": {},
     "output_type": "execute_result"
    }
   ],
   "source": [
    "np.arange(10)"
   ]
  },
  {
   "cell_type": "code",
   "execution_count": 18,
   "metadata": {
    "button": false,
    "new_sheet": false,
    "run_control": {
     "read_only": false
    }
   },
   "outputs": [
    {
     "data": {
      "text/plain": [
       "array([2., 3., 4., 5., 6., 7., 8., 9.])"
      ]
     },
     "execution_count": 18,
     "metadata": {},
     "output_type": "execute_result"
    }
   ],
   "source": [
    "np.arange(2, 10, dtype=float)"
   ]
  },
  {
   "cell_type": "code",
   "execution_count": 19,
   "metadata": {
    "button": false,
    "new_sheet": false,
    "run_control": {
     "read_only": false
    }
   },
   "outputs": [
    {
     "data": {
      "text/plain": [
       "array([2. , 2.1, 2.2, 2.3, 2.4, 2.5, 2.6, 2.7, 2.8, 2.9])"
      ]
     },
     "execution_count": 19,
     "metadata": {},
     "output_type": "execute_result"
    }
   ],
   "source": [
    "np.arange(2, 3, 0.1)"
   ]
  },
  {
   "cell_type": "code",
   "execution_count": 20,
   "metadata": {
    "button": false,
    "new_sheet": false,
    "run_control": {
     "read_only": false
    }
   },
   "outputs": [
    {
     "data": {
      "text/plain": [
       "array([1. , 1.6, 2.2, 2.8, 3.4, 4. ])"
      ]
     },
     "execution_count": 20,
     "metadata": {},
     "output_type": "execute_result"
    }
   ],
   "source": [
    "np.linspace(1., 4., 6)"
   ]
  },
  {
   "cell_type": "markdown",
   "metadata": {
    "button": false,
    "new_sheet": false,
    "run_control": {
     "read_only": false
    }
   },
   "source": [
    "### Using arrays for plotting 1D curves rapidly\n",
    "\n",
    "Another usage of arrays is for scientific plotting. Imagine that you want to plot a either a mathematical function or a data set, you might need to define discretized values of this function. \n",
    "\n",
    "A simple way to achieve this is to choose a space interval along the horizontal x axis, and a corresponding number of data points. The function np.linspace is very useful for this, as it guarantees a fixed number of data point. \n",
    "\n",
    "Below we plot the function sin(x) evaluated between 0 and 6.3 with 20 data points.\n",
    "\n",
    "Reminder: the plot function takes the optional argument 'o', which produces a dotted plot instead of a line plot.\n"
   ]
  },
  {
   "cell_type": "code",
   "execution_count": 5,
   "metadata": {
    "button": false,
    "new_sheet": false,
    "run_control": {
     "read_only": false
    },
    "scrolled": true
   },
   "outputs": [
    {
     "data": {
      "text/plain": [
       "[<matplotlib.lines.Line2D at 0x1b1c7caf048>]"
      ]
     },
     "execution_count": 5,
     "metadata": {},
     "output_type": "execute_result"
    },
    {
     "data": {
      "image/png": "[encoded data removed]",
      "text/plain": [
       "<Figure size 432x288 with 1 Axes>"
      ]
     },
     "metadata": {
      "needs_background": "light"
     },
     "output_type": "display_data"
    }
   ],
   "source": [
    "import numpy as np\n",
    "import matplotlib.pyplot as plt\n",
    "\n",
    "a= np.linspace(0., 6.3, 20) \n",
    "\n",
    "plt.xlabel('x', fontsize=26)\n",
    "plt.ylabel('Sin(x)', fontsize=26)\n",
    "plt.plot(a, np.sin(a) ,'o' )\n",
    "plt.plot(a, np.sin(a)  )\n"
   ]
  },
  {
   "cell_type": "markdown",
   "metadata": {
    "button": false,
    "new_sheet": false,
    "run_control": {
     "read_only": false
    }
   },
   "source": [
    "Note that if you want top plot lines instead a dotted curve, you can simply remove the 'o' argument in the plot function, see here:"
   ]
  },
  {
   "cell_type": "markdown",
   "metadata": {
    "button": false,
    "new_sheet": false,
    "run_control": {
     "read_only": false
    }
   },
   "source": [
    "## Exercise 2, introduction to random numbers and random walks\n",
    "\n",
    "In this problem, we are going to study the problem of the poor-man's random walk. \n",
    "As after a long night out, the poor-man's vision is\n",
    "not performing as well as it should, he walks randomly and shuffles steps to its left or right, with equivalent properties (of course this is a one dimensional simplification of the trajectory, which confines the random walk but let's go with this for sake of simplicity).\n",
    "\n",
    "We'll denote a left step as `-1` and a right\n",
    "step as `+1`. We can track his steps by an array containing a list of `-1` and `+1`,\n",
    "where the indices of this array correspond to the time axis, and at each time we know\n",
    "the shuffled jumps (left or right).\n",
    "\n",
    "2.1: construct a one dimensional array of size tmax=200, that is filled with random -1 and +1,\n",
    "describing the man's trajectory. Here NumPy comes in again very handy, as the function:\n",
    "```\n",
    "np.random.random_integers(0, 1, tmax )\n",
    "```\n",
    "provides an array with random 0 and 1. You'll need to use global array operations to obtain a corresponding result where the zeros are replaced with '-1'. \n",
    "\n",
    "2.2: Calculate the exact distance travelled by poor-man as a function of time, d(t),\n",
    "and the square of the distance, d(t)^2. Plot both functions. \n",
    "\n",
    "As unfortunately this story repeats itself (a thousand times), we obtain a sample\n",
    "of a 1000 realizations of the random trajectory. We want now to compute the average\n",
    "mean square distance as a function of time. \n",
    "\n",
    "2.3: Use the function below with nmax=1000 to generate a table with :\n",
    "```\n",
    "np.random.random_integers(0, 1, (nmax,tmax) )\n",
    "```\n",
    "which corresponds to nmax trajectories and time tmax. As you did in 2.2, find a simple\n",
    "algorithm to replace the zeros with '-1'.\n",
    "\n",
    "2.4: Calculate, by using array operations, the distance as a function of time for each trajectories\n",
    "\n",
    "2.5: Calculate the square of these distances\n",
    "\n",
    "2.6: Average over the nmax stories\n",
    "\n",
    "2.7: Plot the mean square distance as a function time\n",
    "\n",
    "2.8: Plot the square root of the mean square distance function with time.\n",
    "\n",
    "The last result (2.8) can be compared with our knowledge of Newton ballistic motion.\n",
    "What would be the behavior (linear, quadratic, ...) of the distance as a function of time for a classical object evolving\n",
    "without any applied force? Does it match with the random walk?  \n",
    "\n"
   ]
  },
  {
   "cell_type": "code",
   "execution_count": 108,
   "metadata": {
    "button": false,
    "new_sheet": false,
    "run_control": {
     "read_only": false
    },
    "scrolled": true
   },
   "outputs": [
    {
     "name": "stdout",
     "output_type": "stream",
     "text": [
      "[0 0 0 ... 0 0 1]\n",
      "[-1. -1. -1. ... -1. -1.  1.]\n",
      "[ -1.  -2.  -3. ... -46. -47. -46.]\n"
     ]
    },
    {
     "name": "stderr",
     "output_type": "stream",
     "text": [
      "/opt/local/Library/Frameworks/Python.framework/Versions/3.6/lib/python3.6/site-packages/ipykernel_launcher.py:6: DeprecationWarning: This function is deprecated. Please call randint(0, 1 + 1) instead\n",
      "  \n"
     ]
    },
    {
     "data": {
      "text/plain": [
       "[<matplotlib.lines.Line2D at 0x109b8f9b0>]"
      ]
     },
     "execution_count": 108,
     "metadata": {},
     "output_type": "execute_result"
    },
    {
     "data": {
      "image/png": "[encoded data removed]",
      "text/plain": [
       "<Figure size 432x288 with 1 Axes>"
      ]
     },
     "metadata": {
      "needs_background": "light"
     },
     "output_type": "display_data"
    }
   ],
   "source": [
    "import numpy as np\n",
    "import matplotlib.pyplot as plt\n",
    "\n",
    "tmax= ....\n",
    "\n",
    "a = np.random.random_integers(0, 1, tmax )\n",
    "\n",
    "print( a )\n",
    "\n",
    "a = (a- ... ) * ....\n",
    "\n",
    "print( a )\n",
    "\n",
    "a = np.cumsum( a  )\n",
    "\n",
    "print (a)\n",
    "\n",
    "plt.xlabel('time', fontsize=26)\n",
    "plt.ylabel('Distance', fontsize=26)\n",
    "plt.plot(  a  )\n",
    "\n"
   ]
  },
  {
   "cell_type": "code",
   "execution_count": 111,
   "metadata": {
    "button": false,
    "new_sheet": false,
    "run_control": {
     "read_only": false
    },
    "scrolled": true
   },
   "outputs": [
    {
     "name": "stderr",
     "output_type": "stream",
     "text": [
      "/opt/local/Library/Frameworks/Python.framework/Versions/3.6/lib/python3.6/site-packages/ipykernel_launcher.py:7: DeprecationWarning: This function is deprecated. Please call randint(0, 1 + 1) instead\n",
      "  import sys\n"
     ]
    },
    {
     "data": {
      "text/plain": [
       "[<matplotlib.lines.Line2D at 0x10bcedac8>]"
      ]
     },
     "execution_count": 111,
     "metadata": {},
     "output_type": "execute_result"
    },
    {
     "data": {
      "image/png": "[encoded data removed]",
      "text/plain": [
       "<Figure size 432x288 with 1 Axes>"
      ]
     },
     "metadata": {
      "needs_background": "light"
     },
     "output_type": "display_data"
    }
   ],
   "source": [
    "import numpy as np\n",
    "import matplotlib.pyplot as plt\n",
    "\n",
    "tmax=200\n",
    "\n",
    "\n",
    "a = np.random.random_integers(0, 1, (1000,2000) )\n",
    "\n",
    "a=(a- ... )* ...\n",
    "\n",
    "a = np.cumsum(a,1)\n",
    "\n",
    "a = ... \n",
    "\n",
    "b= np.mean(a,0) \n",
    "\n",
    "plt.plot(np.sqrt(b))\n"
   ]
  },
  {
   "cell_type": "markdown",
   "metadata": {
    "button": false,
    "new_sheet": false,
    "run_control": {
     "read_only": false
    }
   },
   "source": [
    "#### Question: \n",
    "\n",
    "Who got the Nobel Prize for this, and for what is the name of the discovery?\n"
   ]
  },
  {
   "cell_type": "markdown",
   "metadata": {
    "button": false,
    "new_sheet": false,
    "run_control": {
     "read_only": false
    }
   },
   "source": [
    "Answer :   ....\n",
    "\n",
    "\n",
    "\n"
   ]
  },
  {
   "cell_type": "markdown",
   "metadata": {
    "button": false,
    "new_sheet": false,
    "run_control": {
     "read_only": false
    }
   },
   "source": [
    "### Exercise 3, Function integration with Monte Carlo\n",
    "\n",
    "In this problem, we use random events to calculate the integral of simple functions, in particular\n",
    "we'd like to obtain the integral of $sin^4(x)$ in the interval $\\left[ 0, \\pi \\right]$\n",
    "\n",
    "We will apply the following strategy: \n",
    "\n",
    "3.1: define an adequate bounding box, for this we need the maximum of the function\n",
    "\n",
    "3.2: choose random duplets (x,y) lying within this box\n",
    "\n",
    "3.3: identify whether the point lies below or above the function, increment a counter\n",
    "\n",
    "3.4: use a for loop to repeat this operation a thousand times\n",
    "\n",
    "3.5: after the for loop ends, calculate the ratio of the counter and the total number of points\n",
    "\n",
    "3.6: from the lecture notes, obtain the estimated integral from the size of the box and the ratio obtained in 3.5\n",
    "\n",
    "\n",
    "\n"
   ]
  },
  {
   "cell_type": "code",
   "execution_count": 260,
   "metadata": {
    "button": false,
    "new_sheet": false,
    "run_control": {
     "read_only": false
    }
   },
   "outputs": [],
   "source": [
    "import numpy as np\n",
    "import matplotlib.pyplot as plt\n",
    "\n",
    "def func(i):\n",
    "    return (np.sin(i))**4\n",
    "\n",
    "yrange = np.pi\n",
    "\n",
    "NumA = 10000\n",
    "Num = 1000\n",
    "\n",
    "areas = []\n",
    "\n",
    "for j in range(NumA):\n",
    "    H = np.random.random(Num)*yrange\n",
    "    I = 0\n",
    "    for i in range(Num):\n",
    "        I += func(H[i])\n",
    "    #print(((yrange)/Num)*I)\n",
    "    areas.append(I)"
   ]
  },
  {
   "cell_type": "code",
   "execution_count": 261,
   "metadata": {},
   "outputs": [
    {
     "data": {
      "text/plain": [
       "(array([1.000e+00, 1.000e+00, 5.000e+00, 8.000e+00, 2.800e+01, 5.300e+01,\n",
       "        9.100e+01, 1.630e+02, 2.560e+02, 3.470e+02, 5.410e+02, 7.080e+02,\n",
       "        8.370e+02, 9.850e+02, 1.059e+03, 1.022e+03, 1.014e+03, 8.460e+02,\n",
       "        6.390e+02, 4.810e+02, 3.510e+02, 2.270e+02, 1.600e+02, 9.000e+01,\n",
       "        4.600e+01, 2.100e+01, 8.000e+00, 8.000e+00, 1.000e+00, 3.000e+00]),\n",
       " array([329.27166164, 332.32983641, 335.38801118, 338.44618596,\n",
       "        341.50436073, 344.5625355 , 347.62071028, 350.67888505,\n",
       "        353.73705982, 356.7952346 , 359.85340937, 362.91158414,\n",
       "        365.96975892, 369.02793369, 372.08610846, 375.14428324,\n",
       "        378.20245801, 381.26063278, 384.31880756, 387.37698233,\n",
       "        390.4351571 , 393.49333188, 396.55150665, 399.60968142,\n",
       "        402.6678562 , 405.72603097, 408.78420574, 411.84238052,\n",
       "        414.90055529, 417.95873006, 421.01690484]),\n",
       " <a list of 30 Patch objects>)"
      ]
     },
     "execution_count": 261,
     "metadata": {},
     "output_type": "execute_result"
    },
    {
     "data": {
      "image/png": "[encoded data removed]",
      "text/plain": [
       "<Figure size 432x288 with 1 Axes>"
      ]
     },
     "metadata": {
      "needs_background": "light"
     },
     "output_type": "display_data"
    }
   ],
   "source": [
    "plt.hist(areas, bins = 30, ec = 'blue')"
   ]
  },
  {
   "cell_type": "code",
   "execution_count": 262,
   "metadata": {},
   "outputs": [
    {
     "data": {
      "text/plain": [
       "[<matplotlib.lines.Line2D at 0x1660d626bc8>]"
      ]
     },
     "execution_count": 262,
     "metadata": {},
     "output_type": "execute_result"
    },
    {
     "data": {
      "image/png": "[encoded data removed]",
      "text/plain": [
       "<Figure size 432x288 with 1 Axes>"
      ]
     },
     "metadata": {
      "needs_background": "light"
     },
     "output_type": "display_data"
    }
   ],
   "source": [
    "x = np.linspace(0, yrange, 1000)\n",
    "plt.title(\"f(x) = $\\sin^4$\"\"(x)\")\n",
    "plt.xlabel(\"x\")\n",
    "plt.ylabel(\"f(x)\")\n",
    "plt.plot(x, func(x))"
   ]
  },
  {
   "cell_type": "code",
   "execution_count": null,
   "metadata": {},
   "outputs": [],
   "source": []
  }
 ],
 "metadata": {
  "kernelspec": {
   "display_name": "Python 3",
   "language": "python",
   "name": "python3"
  },
  "language_info": {
   "codemirror_mode": {
    "name": "ipython",
    "version": 3
   },
   "file_extension": ".py",
   "mimetype": "text/x-python",
   "name": "python",
   "nbconvert_exporter": "python",
   "pygments_lexer": "ipython3",
   "version": "3.7.4"
  }
 },
 "nbformat": 4,
 "nbformat_minor": 2
}
